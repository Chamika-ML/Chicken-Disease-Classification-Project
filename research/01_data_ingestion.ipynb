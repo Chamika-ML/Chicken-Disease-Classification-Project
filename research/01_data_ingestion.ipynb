{
 "cells": [
  {
   "cell_type": "code",
   "execution_count": 1,
   "metadata": {},
   "outputs": [],
   "source": [
    "import os"
   ]
  },
  {
   "cell_type": "code",
   "execution_count": 2,
   "metadata": {},
   "outputs": [
    {
     "data": {
      "text/plain": [
       "'c:\\\\Users\\\\chami\\\\Desktop\\\\Learning\\\\ML\\\\MLOps-and-CICD\\\\Chicken-Disease-Classification-Project\\\\research'"
      ]
     },
     "execution_count": 2,
     "metadata": {},
     "output_type": "execute_result"
    }
   ],
   "source": [
    "%pwd"
   ]
  },
  {
   "cell_type": "code",
   "execution_count": 3,
   "metadata": {},
   "outputs": [],
   "source": [
    "# change current working directory to project root directory \n",
    "os.chdir(\"../\")"
   ]
  },
  {
   "cell_type": "code",
   "execution_count": 4,
   "metadata": {},
   "outputs": [
    {
     "data": {
      "text/plain": [
       "'c:\\\\Users\\\\chami\\\\Desktop\\\\Learning\\\\ML\\\\MLOps-and-CICD\\\\Chicken-Disease-Classification-Project'"
      ]
     },
     "execution_count": 4,
     "metadata": {},
     "output_type": "execute_result"
    }
   ],
   "source": [
    "%pwd"
   ]
  },
  {
   "cell_type": "code",
   "execution_count": 5,
   "metadata": {},
   "outputs": [],
   "source": [
    "# update the entity\n",
    "# entity folder contained the custom function return types\n",
    "# the frozen means that  once an instance of the DataIngestionConfig class is created, its attributes cannot be modified.\n",
    "\n",
    "from dataclasses import dataclass\n",
    "from pathlib import Path\n",
    "\n",
    "@dataclass(frozen=True)\n",
    "class DataIngestionConfig:\n",
    "    root_dir = Path\n",
    "    source_URL = str\n",
    "    local_data_file = Path\n",
    "    unzip_dir = Path"
   ]
  },
  {
   "cell_type": "code",
   "execution_count": 6,
   "metadata": {},
   "outputs": [],
   "source": [
    "from cnnClassifier.constants import CONFIG_FILE_PATH, PARAMS_FILE_PATH\n",
    "from cnnClassifier.utils.common import read_yaml, create_directories"
   ]
  },
  {
   "cell_type": "code",
   "execution_count": 11,
   "metadata": {},
   "outputs": [],
   "source": [
    "# update configuration manager\n",
    "class ConfigurationManager:\n",
    "    def __init__(self,config_filepath = CONFIG_FILE_PATH, params_filepath=PARAMS_FILE_PATH):\n",
    "        self.config = read_yaml(config_filepath)\n",
    "        self.params = read_yaml(params_filepath)\n",
    "        # create atrifacts folder inside the root folder\n",
    "        create_directories([self.config.artifacts_root])\n",
    "\n",
    "    def get_data_ingestion_config(self)-> DataIngestionConfig:\n",
    "        # get all the data ingestion related paths in config.yaml file\n",
    "        config = self.config.data_ingestion\n",
    "        # create data_ingestion folder inside the artifacts folder\n",
    "        create_directories([config.root_dir])\n",
    "\n",
    "        # get all the data ingestion related paths to one variable class and return it\n",
    "        data_ingestion_config = DataIngestionConfig(\n",
    "            root_dir = config.root_dir,\n",
    "            source_URL = config.source_URL,\n",
    "            local_data_file = config.local_data_file,\n",
    "            unzip_dir = config.unzip_dir,\n",
    "        )\n",
    "\n",
    "        return data_ingestion_config\n"
   ]
  },
  {
   "cell_type": "code",
   "execution_count": 8,
   "metadata": {},
   "outputs": [],
   "source": [
    "# execute the data ingestion\n",
    "\n",
    "import os \n",
    "import urllib.request as request\n",
    "import zipfile\n",
    "from cnnClassifier import logger \n",
    "from cnnClassifier.utils.common import get_size"
   ]
  },
  {
   "cell_type": "code",
   "execution_count": 13,
   "metadata": {},
   "outputs": [],
   "source": [
    "# update componenet folder\n",
    "class DataIngestion:\n",
    "    def __init__(self,config:DataIngestionConfig) :\n",
    "        self.config = config\n",
    "\n",
    "    def download_file(self):\n",
    "        # if the data set not downloaded previously\n",
    "        if not os.path.exists(self.config.local_data_file):\n",
    "            filename,headers = request.urlretrieve(\n",
    "                url = self.config.source_URL,\n",
    "                filename = self.config.local_data_file\n",
    "            )\n",
    "            logger.info(f\"{filename} downloaded with following info: \\n{headers}\")\n",
    "        else:\n",
    "            logger.info(f\"file already exist of size: {get_size(Path(self.config.local_data_file))}\")\n",
    "\n",
    "    def extract_zip_file(self):\n",
    "        # create unzip folder artifacts/data_ingestion\n",
    "        unzip_path = self.config.unzip_dir\n",
    "        os.makedirs(unzip_path,exist_ok=True)\n",
    "\n",
    "        # unzip the downloaded file and saved it in artifacts/data_ingestion folder\n",
    "        with zipfile.ZipFile(self.config.local_data_file, 'r') as zip_ref:\n",
    "            zip_ref.extractall(unzip_path)\n"
   ]
  },
  {
   "cell_type": "code",
   "execution_count": 17,
   "metadata": {},
   "outputs": [
    {
     "name": "stdout",
     "output_type": "stream",
     "text": [
      "[2024-05-07 00:03:21,380: INFO: common: yaml file: config\\config.yaml loaded successfully]\n",
      "[2024-05-07 00:03:21,382: INFO: common: yaml file: params.yaml loaded successfully]\n",
      "[2024-05-07 00:03:21,382: INFO: common: created directory at: artifacts]\n",
      "[2024-05-07 00:03:21,382: INFO: common: created directory at: artifacts/data_ingestion]\n"
     ]
    },
    {
     "name": "stdout",
     "output_type": "stream",
     "text": [
      "[2024-05-07 00:03:24,830: INFO: 2611563425: artifacts/data_ingestion/data.zip download! with following info: \n",
      "Connection: close\n",
      "Content-Length: 11616915\n",
      "Cache-Control: max-age=300\n",
      "Content-Security-Policy: default-src 'none'; style-src 'unsafe-inline'; sandbox\n",
      "Content-Type: application/zip\n",
      "ETag: \"adf745abc03891fe493c3be264ec012691fe3fa21d861f35a27edbe6d86a76b1\"\n",
      "Strict-Transport-Security: max-age=31536000\n",
      "X-Content-Type-Options: nosniff\n",
      "X-Frame-Options: deny\n",
      "X-XSS-Protection: 1; mode=block\n",
      "X-GitHub-Request-Id: 15B6:7A708:34327:4222B:663920AB\n",
      "Accept-Ranges: bytes\n",
      "Date: Mon, 06 May 2024 18:33:24 GMT\n",
      "Via: 1.1 varnish\n",
      "X-Served-By: cache-qpg1261-QPG\n",
      "X-Cache: HIT\n",
      "X-Cache-Hits: 0\n",
      "X-Timer: S1715020404.921491,VS0,VE325\n",
      "Vary: Authorization,Accept-Encoding,Origin\n",
      "Access-Control-Allow-Origin: *\n",
      "Cross-Origin-Resource-Policy: cross-origin\n",
      "X-Fastly-Request-ID: a017ac30fb6bff61a240982730d09caa3a00a40b\n",
      "Expires: Mon, 06 May 2024 18:38:24 GMT\n",
      "Source-Age: 0\n",
      "\n",
      "]\n"
     ]
    }
   ],
   "source": [
    "# create pipeline\n",
    "try:\n",
    "    config = ConfigurationManager() # create artifacts folder\n",
    "    data_ingestion_config = config.get_data_ingestion_config() # return data ingestion related paths\n",
    "    data_ingestion = DataIngestion(config=data_ingestion_config) # initialized data ingestion object with related paths \n",
    "    data_ingestion.download_file() # download the dataset \n",
    "    data_ingestion.extract_zip_file() # extract the downloaded data zip file to  artifacts/data_ingestion folder\n",
    "except Exception as e:\n",
    "    raise e"
   ]
  }
 ],
 "metadata": {
  "kernelspec": {
   "display_name": "chicken",
   "language": "python",
   "name": "python3"
  },
  "language_info": {
   "codemirror_mode": {
    "name": "ipython",
    "version": 3
   },
   "file_extension": ".py",
   "mimetype": "text/x-python",
   "name": "python",
   "nbconvert_exporter": "python",
   "pygments_lexer": "ipython3",
   "version": "3.8.19"
  }
 },
 "nbformat": 4,
 "nbformat_minor": 2
}
